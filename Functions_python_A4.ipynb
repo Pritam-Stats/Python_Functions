{
  "nbformat": 4,
  "nbformat_minor": 0,
  "metadata": {
    "colab": {
      "provenance": []
    },
    "kernelspec": {
      "name": "python3",
      "display_name": "Python 3"
    },
    "language_info": {
      "name": "python"
    }
  },
  "cells": [
    {
      "cell_type": "markdown",
      "source": [
        "# PRACTICAL QUESTIONS"
      ],
      "metadata": {
        "id": "Ctv4vGeHmVFJ"
      }
    },
    {
      "cell_type": "markdown",
      "source": [
        "### **1. Write a Python function that takes a list of numbers as input and returns the sum of all even numbers in the list.**\n"
      ],
      "metadata": {
        "id": "8iPg16tWnNWf"
      }
    },
    {
      "cell_type": "code",
      "source": [
        "# defining a function which takes list as an argument\n",
        "\n",
        "def sum_evens(num_list: list) -> int:       #Type Hinting or type annotation technique to specify the input and return type to the user\n",
        "\n",
        "    #adding docstring to give a description to the user about the nature of function\n",
        "    \"\"\"\n",
        "    This function takes a list of numbers as input and returns the sum of all even numbers in the list.\n",
        "\n",
        "    parameter -  num_list: A list of numbers\n",
        "\n",
        "    returns: The sum of all even numbers in the list.\n",
        "\n",
        "    This function is created using a high order function named filter() and a python inbuilt sum() function\n",
        "    \"\"\"\n",
        "\n",
        "    if isinstance(num_list, list) == False:\n",
        "        raise TypeError(\"The Input is expected to be a list of numbers.\")       #Typechecking method. if the input is not a list this will give a error\n",
        "\n",
        "\n",
        "    evens = filter(lambda x: x%2 == 0, num_list)    #using the lambda fn to recognise a even number from the list. and using filter function to only extract the numbers which satisfy the condition as True.\n",
        "    return sum(list(evens))     #converting the filter object to a list and return the sum"
      ],
      "metadata": {
        "id": "QgdWYQRSnfld"
      },
      "execution_count": null,
      "outputs": []
    },
    {
      "cell_type": "code",
      "source": [
        "type(evens)"
      ],
      "metadata": {
        "colab": {
          "base_uri": "https://localhost:8080/"
        },
        "id": "gKndJhTFmd3I",
        "outputId": "2266afd3-48e1-41e5-fe39-70b18bb8a3aa"
      },
      "execution_count": null,
      "outputs": [
        {
          "output_type": "execute_result",
          "data": {
            "text/plain": [
              "filter"
            ]
          },
          "metadata": {},
          "execution_count": 34
        }
      ]
    },
    {
      "cell_type": "code",
      "source": [
        "my_list = [1,2,3,4,5,6,7,8,9,10]    #creating a list of numbers\n",
        "result = sum_evens(my_list)     #calling our function.\n",
        "\n",
        "print(f\"The sum of all the even no.s from the given list is {result}\")    #output should be 30 for the above list of first 10 integers"
      ],
      "metadata": {
        "colab": {
          "base_uri": "https://localhost:8080/"
        },
        "id": "0rAIugxldVbd",
        "outputId": "349db3c0-9d00-453b-d4e8-5fefcae519e1"
      },
      "execution_count": null,
      "outputs": [
        {
          "output_type": "stream",
          "name": "stdout",
          "text": [
            "The sum of all the even no.s from the given list is 30\n"
          ]
        }
      ]
    },
    {
      "cell_type": "code",
      "source": [
        "sum_evens()"
      ],
      "metadata": {
        "id": "6vyFv3NDdeLZ"
      },
      "execution_count": null,
      "outputs": []
    },
    {
      "cell_type": "code",
      "source": [
        "evens = filter(lambda x: x%2 == 0, my_list)\n",
        "print(list(evens))"
      ],
      "metadata": {
        "colab": {
          "base_uri": "https://localhost:8080/"
        },
        "id": "H-9lsca2WrzZ",
        "outputId": "1f784e18-aea8-494d-cff7-bf696a0cf831"
      },
      "execution_count": null,
      "outputs": [
        {
          "output_type": "stream",
          "name": "stdout",
          "text": [
            "[2, 4, 6, 8]\n"
          ]
        }
      ]
    },
    {
      "cell_type": "code",
      "source": [
        "sum(list(only_even))"
      ],
      "metadata": {
        "colab": {
          "base_uri": "https://localhost:8080/"
        },
        "id": "sKriZutTYkDu",
        "outputId": "1818b7df-f1d9-46d9-ee5a-a0c4a164187c"
      },
      "execution_count": null,
      "outputs": [
        {
          "output_type": "execute_result",
          "data": {
            "text/plain": [
              "0"
            ]
          },
          "metadata": {},
          "execution_count": 12
        }
      ]
    },
    {
      "cell_type": "code",
      "source": [
        "# 2nd method\n",
        "# using generator expression - similar syntax to a list comprehension method\n",
        "\n",
        "def sum_evens_gen(num_list: list) -> int:\n",
        "\n",
        "        \"\"\"\n",
        "    This function takes a list of numbers as input and returns the sum of all even numbers in the list.\n",
        "\n",
        "    parameter -  num_list: A list of numbers\n",
        "\n",
        "    returns: The sum of all even numbers in the list.\n",
        "\n",
        "    This is the 2nd method and in this function we have used the technique of generator expression and a python inbuilt sum() function\n",
        "    \"\"\"\n",
        "\n",
        "    #the generator expression\n",
        "    result = sum(x for x in num_list if x%2 == 0)        #that is sum of all the x from the given list which satisfy the condition given using if satement\n",
        "    return result\n",
        "\n",
        "    #this doesn't create a full list of even numbers as method 1. Which makes this method more memory efflicient"
      ],
      "metadata": {
        "id": "2kWvauaCWFp5"
      },
      "execution_count": null,
      "outputs": []
    },
    {
      "cell_type": "code",
      "source": [
        "sum_evens_gen([1,2,3,4,5,6])"
      ],
      "metadata": {
        "colab": {
          "base_uri": "https://localhost:8080/"
        },
        "id": "QJUo4MOft7KW",
        "outputId": "15248760-2ae4-4bd8-ca83-6601347a1528"
      },
      "execution_count": null,
      "outputs": [
        {
          "output_type": "execute_result",
          "data": {
            "text/plain": [
              "12"
            ]
          },
          "metadata": {},
          "execution_count": 40
        }
      ]
    },
    {
      "cell_type": "markdown",
      "source": [
        "### **2. Create a Python function that accepts a string and returns the reverse of that string.**"
      ],
      "metadata": {
        "id": "g5c2d4OVnjj-"
      }
    },
    {
      "cell_type": "code",
      "source": [
        "#METHOD 1 - USING STRING SLICING\n",
        "\n",
        "def reverse_str(text: str) -> str:\n",
        "\n",
        "    \"\"\"\n",
        "    This function takes a string as its input and return the reverse of the given string.\n",
        "\n",
        "    The parameter text here is expected to get a string as a argument. And for any other data type it'll throw an error, as i used the method of input type checking using isinstance() function\n",
        "\n",
        "    This function uses the simple method of string slicing to reverse the string.\n",
        "    \"\"\"\n",
        "    if not isinstance(text, str):       #To raise a typeError for a invalid input\n",
        "        raise TypeError(\"The input should be a string\")\n",
        "\n",
        "    if len(text) == 0:\n",
        "        return \" \"\n",
        "\n",
        "    return text[::-1]       #string slicing. where we only mentioned the step as -1 which means come through the string in backward and didn't mention the start and end means it will be applied for the entire string by default\n"
      ],
      "metadata": {
        "id": "tH_h6pNzntto"
      },
      "execution_count": null,
      "outputs": []
    },
    {
      "cell_type": "code",
      "source": [
        "og_str1 = \"This is the practical section of the function assignment.\"\n",
        "print(f\"\\nThe original string is -  {og_str1}\")\n",
        "\n",
        "reversed_str1 =  reverse_str(og_str1)       #calling the function\n",
        "print(f\"\\nThe reversed string is - {reversed_str1}\")"
      ],
      "metadata": {
        "colab": {
          "base_uri": "https://localhost:8080/"
        },
        "id": "wyGDY_Ju0ens",
        "outputId": "87a43f68-4aa9-4963-8ad3-b3757d352476"
      },
      "execution_count": null,
      "outputs": [
        {
          "output_type": "stream",
          "name": "stdout",
          "text": [
            "\n",
            "The original string is -  This is the practical section of the function assignment.\n",
            "\n",
            "The reversed string is - .tnemngissa noitcnuf eht fo noitces lacitcarp eht si sihT\n"
          ]
        }
      ]
    },
    {
      "cell_type": "code",
      "source": [
        "reverse_str(\"\")"
      ],
      "metadata": {
        "colab": {
          "base_uri": "https://localhost:8080/",
          "height": 35
        },
        "id": "fAps7OYsy5sB",
        "outputId": "6d206590-4a27-4cc8-9665-48618cfac959"
      },
      "execution_count": null,
      "outputs": [
        {
          "output_type": "execute_result",
          "data": {
            "text/plain": [
              "' '"
            ],
            "application/vnd.google.colaboratory.intrinsic+json": {
              "type": "string"
            }
          },
          "metadata": {},
          "execution_count": 67
        }
      ]
    },
    {
      "cell_type": "code",
      "source": [
        "#METHOD 2 - USING FOR LOOP\n",
        "\n",
        "def reverse_str_for(text: str) -> str:\n",
        "\n",
        "  \"\"\"\n",
        "    This function takes a string as its input and return the reverse of the given string.\n",
        "\n",
        "    The parameter text here is expected to get a string as a argument. And for any other data type it'll throw an error, as i used the method of input type checking using isinstance() function\n",
        "\n",
        "    In this funtion i have used an iterative technique using a for loop to access each character one by one and concatenate all the characters in the reverse order.\n",
        "    \"\"\"\n",
        "    if not isinstance(text, str):       #To raise a typeError for a invalid input\n",
        "        raise TypeError(\"The input should be a string\")\n",
        "\n",
        "    reversed_str2 = \"\"   #creating an empty string to concatenate the characters of the original string in a reverse order\n",
        "    for x in text:\n",
        "        reversed_str2 =  x + reversed_str2     #first it will add the first iterated character to the empty string then after the 2nd iteration the value of x will be the 2nd character so the 2nd character will be concatenated to first character which will place the 2nd character before the first character\n",
        "        #here x + reversed_str will give the string in reverse order but if we do reversed_str + x then it will give the original string only. The order is important in concatenation of strings\n",
        "\n",
        "    return reversed_str2\n"
      ],
      "metadata": {
        "id": "uS3PQU9pzMvx"
      },
      "execution_count": null,
      "outputs": []
    },
    {
      "cell_type": "code",
      "source": [
        "og_str2 = \"Hello PWskills\"\n",
        "print(f\"\\nThe original string is -  {og_str2}\")\n",
        "\n",
        "result_str = reverse_str_for(og_str2)       #calling the function\n",
        "print(f\"\\nThe reversed string is - {result_str}\")"
      ],
      "metadata": {
        "colab": {
          "base_uri": "https://localhost:8080/"
        },
        "id": "cG0zuKN8zIf1",
        "outputId": "4b86e25f-398f-4a02-9b39-70af656f88cb"
      },
      "execution_count": null,
      "outputs": [
        {
          "output_type": "stream",
          "name": "stdout",
          "text": [
            "\n",
            "The original string is -  Hello PWskills\n",
            "\n",
            "The reversed string is - slliksWP olleH\n"
          ]
        }
      ]
    },
    {
      "cell_type": "markdown",
      "source": [
        "### **3. Implement a Python function that takes a list of integers and returns a new list containing the squares of each number.**"
      ],
      "metadata": {
        "id": "KvAAHRmCnuF8"
      }
    },
    {
      "cell_type": "code",
      "source": [
        "# USING map() and lambda function\n",
        "# map() function takes a function and an iterable object to which the function is to be implemented, as its inputs\n",
        "\n",
        "list1 = [1,2,3,4,5,6,7,8,9]     #list of integers\n",
        "\n",
        "squares = list(map(lambda x: x**2, list1))      #map function creates an object, so we need to conver the result to a list\n",
        "\n",
        "print(f\"\\nThe initial list of integers - {list1}\")\n",
        "print(f\"\\nThe list of squares of the integers - {squares}\")"
      ],
      "metadata": {
        "id": "Li4f9JcCn3_5",
        "colab": {
          "base_uri": "https://localhost:8080/"
        },
        "outputId": "56d0ca35-dee5-4647-954a-48424059093e"
      },
      "execution_count": null,
      "outputs": [
        {
          "output_type": "stream",
          "name": "stdout",
          "text": [
            "\n",
            "The initial list of integers - [1, 2, 3, 4, 5, 6, 7, 8, 9]\n",
            "\n",
            "The list of squares of the integers - [1, 4, 9, 16, 25, 36, 49, 64, 81]\n"
          ]
        }
      ]
    },
    {
      "cell_type": "markdown",
      "source": [
        "### **4. Write a Python function that checks if a given number is prime or not from 1 to 200..**"
      ],
      "metadata": {
        "id": "O3qlUaEUn4SL"
      }
    },
    {
      "cell_type": "code",
      "source": [
        "#solution 1\n",
        "\n",
        "def prime_check(num: int) -> bool:\n",
        "\n",
        "    \"\"\"\n",
        "    This function check if the given number is prime or not.\n",
        "    Returns True if the number is prime else returns False.\n",
        "    The function expects a positive integer as its argument.\n",
        "    we have used if else statement to consider different scenarios and at last used a for loop for the algorithm of prime number.\n",
        "\n",
        "    \"\"\"\n",
        "\n",
        "    if num < 1 :\n",
        "        return \"Invalid input. Please enter a positive integer.\"\n",
        "        #raise ValueError(\"Invalid input. Please enter a positive integer.\")        #we could have also done this which would have given a ValueError for an invalid input\n",
        "    elif num == 1:\n",
        "        return False\n",
        "    else:\n",
        "        for i in range (2, int(((num)**0.5) + 1)):       #iterating upto the sq root of the given number\n",
        "            if num % i == 0:                                        #checking if divisible by number\n",
        "                return False\n",
        "        return True\n"
      ],
      "metadata": {
        "id": "Ii0v4eG9oJ6-"
      },
      "execution_count": null,
      "outputs": []
    },
    {
      "cell_type": "code",
      "source": [
        "#now to get all the prime numbers between 1 to 200 in a list we can use the filter() function\n",
        "all_primes_1_200 = list(filter(prime_check, range(1,201)))\n",
        "\n",
        "print(f\"All the prime numbers between 1 to 200 are - {all_primes_1_200}\")"
      ],
      "metadata": {
        "colab": {
          "base_uri": "https://localhost:8080/"
        },
        "id": "QF-F5k_fynIf",
        "outputId": "fb2db6d6-d5db-4fed-e236-ef69ec8049fc"
      },
      "execution_count": null,
      "outputs": [
        {
          "output_type": "stream",
          "name": "stdout",
          "text": [
            "All the prime numbers between 1 to 200 are - [2, 3, 5, 7, 11, 13, 17, 19, 23, 29, 31, 37, 41, 43, 47, 53, 59, 61, 67, 71, 73, 79, 83, 89, 97, 101, 103, 107, 109, 113, 127, 131, 137, 139, 149, 151, 157, 163, 167, 173, 179, 181, 191, 193, 197, 199]\n"
          ]
        }
      ]
    },
    {
      "cell_type": "code",
      "source": [
        "# solution 2 - without any arguments. checks only for the numbers 1 to 200. using a generator function\n",
        "\n",
        "def primes():\n",
        "    \"\"\"\n",
        "    THIS IS A GENERATOR FUNCTION, WHICH YIELDS ALL THE PRIME NOs between 1 to 200.\n",
        "    This function doesn't take any arguments.\n",
        "    \"\"\"\n",
        "    for num in range(2, 201):           #this loop generates all the numbers to check\n",
        "        for i in range(2, int(num**0.5) + 1):       #this loop checks if the number from the outer loop is prime\n",
        "            if num % i == 0:                #checking divisibility\n",
        "                break                   #for the numbers which are not prime the loop stops checking further\n",
        "        else:\n",
        "            yield num           #keyword for the generator function. which throws prime numbers one by one"
      ],
      "metadata": {
        "id": "Tl8FqACZ2FCo"
      },
      "execution_count": null,
      "outputs": []
    },
    {
      "cell_type": "code",
      "source": [
        "print(\"All the primes between 1 to 200 are - \\n\")\n",
        "\n",
        "for x in primes():\n",
        "    print(x, end = \"    \")                #since primes() is a generator object we have iterate to get all the values"
      ],
      "metadata": {
        "colab": {
          "base_uri": "https://localhost:8080/"
        },
        "id": "wDxrwqk-3zsT",
        "outputId": "c87f4212-93d8-407c-91eb-65d7f5baa659"
      },
      "execution_count": null,
      "outputs": [
        {
          "output_type": "stream",
          "name": "stdout",
          "text": [
            "All the primes between 1 to 200 are - \n",
            "\n",
            "2    3    5    7    11    13    17    19    23    29    31    37    41    43    47    53    59    61    67    71    73    79    83    89    97    101    103    107    109    113    127    131    137    139    149    151    157    163    167    173    179    181    191    193    197    199    "
          ]
        }
      ]
    },
    {
      "cell_type": "code",
      "source": [],
      "metadata": {
        "id": "nzt2aOWJ5w4U"
      },
      "execution_count": null,
      "outputs": []
    },
    {
      "cell_type": "markdown",
      "source": [
        "### **5. Create an iterator class in Python that generates the Fibonacci sequence up to a specified number of terms.**"
      ],
      "metadata": {
        "id": "7V-T6q5ipkpR"
      }
    },
    {
      "cell_type": "code",
      "source": [
        "class Fibonacci:\n",
        "    \"\"\"\n",
        "        parameter n - expects a positive integer as its argument which specifies the total no. of terms to print of the fibonacci seq\n",
        "    \"\"\"\n",
        "    def __init__(self, n: int):      #constructor initialization for our object\n",
        "\n",
        "        if not isinstance(n, int) or n < 0:\n",
        "            raise ValueError(\"Number of terms must be a non-negative integer.\")     #raises error for invalid inputs. for the input 0 returns nothing\n",
        "\n",
        "\n",
        "        self.n_term = n\n",
        "        self.f1, self.f2 = 0, 1\n",
        "        self.count = 0      #count will be needed because we will only want upto nth term\n",
        "\n",
        "# this __iter__() and __next__() together is the iterable protocol which will make our class an iterable class\n",
        "\n",
        "    def __iter__(self):\n",
        "        \"\"\"\n",
        "        create an iterator object or makes the object iterable\n",
        "        \"\"\"\n",
        "        return self         #To create an iterable object which is same as the class object\n",
        "    #basically it converts the class object to an iterable object\n",
        "\n",
        "    def __next__(self):      #this will generate each value from our iterator one by one\n",
        "        \"\"\"\n",
        "        as similar to the next method this generates the next item from the iterator\n",
        "        \"\"\"\n",
        "\n",
        "        if self.count < self.n_term:\n",
        "            f1 = self.f1\n",
        "            self.f1, self.f2 = self.f2, self.f1 + self.f2\n",
        "            self.count += 1\n",
        "            return f1\n",
        "        else:\n",
        "            raise StopIteration\n",
        "\n",
        "fn = Fibonacci(9)       #this creates the object we are storing that in a variable to iterate\n",
        "\n",
        "print(f\"The first {fn.n_term} terms in the fibonacci seq are:  \", end = \" \")\n",
        "for f in fn:\n",
        "    print(f, end = \"    \")"
      ],
      "metadata": {
        "id": "DoAW0NnVp9mE",
        "colab": {
          "base_uri": "https://localhost:8080/"
        },
        "outputId": "1602a15f-48aa-416e-a6fe-2cce0652f39b"
      },
      "execution_count": null,
      "outputs": [
        {
          "output_type": "stream",
          "name": "stdout",
          "text": [
            "The first 9 terms in the fibonacci seq are:   0    1    1    2    3    5    8    13    21    "
          ]
        }
      ]
    },
    {
      "cell_type": "code",
      "source": [
        "for i in Fibonacci(7):      #The first 7 terms\n",
        "    print(i, end= \"   \")"
      ],
      "metadata": {
        "colab": {
          "base_uri": "https://localhost:8080/"
        },
        "id": "MnQghgstgCuW",
        "outputId": "36e984b9-d9a3-4405-bd6e-f9c81f7fc115"
      },
      "execution_count": null,
      "outputs": [
        {
          "output_type": "stream",
          "name": "stdout",
          "text": [
            "0   1   1   2   3   5   8   "
          ]
        }
      ]
    },
    {
      "cell_type": "markdown",
      "source": [
        "### **6. Write a generator function in Python that yields the powers of 2 up to a given exponent.**"
      ],
      "metadata": {
        "id": "o3bDaWflp9-O"
      }
    },
    {
      "cell_type": "code",
      "source": [
        "def powers2_gen(n: int)-> list:\n",
        "    \"\"\"\n",
        "    parameter n: expects a integer as its argument. Which is the maximum exponent to be calculated for 2.\n",
        "    for example if argument is 4. the function will return of the powers- [1, 2, 4, 8, 16]. that is upto the 4th exponent\n",
        "    \"\"\"\n",
        "    for exp in range(n+1):          #it will give from 0'th exponent to the n'th exponent\n",
        "        yield 2**exp        #this makes our function a genrator function. because yield keyword returns only one value at a time\n"
      ],
      "metadata": {
        "id": "auzcKsv_qJlx"
      },
      "execution_count": null,
      "outputs": []
    },
    {
      "cell_type": "code",
      "source": [
        "#printing the values - method 1\n",
        "result = list(powers2_gen(9))       #calling the generator function which will  create a generator object and converting it to the list to get the values\n",
        "\n",
        "print(f\"The powers of 2 upto the 9th exponents are-   {result}\", end = \"  \")"
      ],
      "metadata": {
        "colab": {
          "base_uri": "https://localhost:8080/"
        },
        "id": "oKmHCP-3zweA",
        "outputId": "09c99662-08dd-4c4f-e6bd-57ad36cdbbc9"
      },
      "execution_count": null,
      "outputs": [
        {
          "output_type": "stream",
          "name": "stdout",
          "text": [
            "The powers of 2 upto the 9th exponents are-   [1, 2, 4, 8, 16, 32, 64, 128, 256, 512]  "
          ]
        }
      ]
    },
    {
      "cell_type": "code",
      "source": [
        "#COULD'VE ALSO DONE THIS IF WE DON'T WANT A LIST AND WANT OUTPUT AS - 2^0 = 1, 2^1 =2, 2^2 =4 and so on\n",
        "\n",
        "#calling our generator function.  here p4 will be a generator obejct initially, we can verify that using type(p4).\n",
        "#By converting to a list we can direcly print the list or we can also iterate through the 0bject to get all the values\n",
        "\n",
        "p4 = list(powers2_gen(3))\n",
        "\n",
        "print(\"The powers of 2 upto the 3rd exponents are-  \", end = \"   \")\n",
        "\n",
        "for x, p in enumerate(p4):                        #using for loop to generator items one by one from our generaor function. similar to using next(p4) 5 times\n",
        "    print(f\"2^{x} = {p}\", end = \" ,   \")       #we could also store this values in a list using list.append() method after creating a empty list.\n"
      ],
      "metadata": {
        "colab": {
          "base_uri": "https://localhost:8080/"
        },
        "id": "fpYgNe01nDA3",
        "outputId": "a6051bff-1e6f-4070-906e-0cc74747a6b0"
      },
      "execution_count": null,
      "outputs": [
        {
          "output_type": "stream",
          "name": "stdout",
          "text": [
            "The powers of 2 upto the 3rd exponents are-     2^0 = 1 ,   2^1 = 2 ,   2^2 = 4 ,   2^3 = 8 ,   "
          ]
        }
      ]
    },
    {
      "cell_type": "markdown",
      "source": [
        "### 7. **Implement a generator function that reads a file line by line and yields each line as a string.**"
      ],
      "metadata": {
        "id": "CetYvEFWqJ5k"
      }
    },
    {
      "cell_type": "code",
      "source": [
        "def read_file_gen(filename) :\n",
        "    \"\"\"\n",
        "    This Genrator function reads and returns each line of a text file.\n",
        "\n",
        "    The parameter filename : is expects a .txt file to read and returns the lines.\n",
        "\n",
        "    Give your file name with .txt after uploading the file in the same directory.\n",
        "\n",
        "    \"\"\"\n",
        "\n",
        "    with open(filename, \"r\") as file:           #with is a keyword and using open function we can open a file. anothe argument \"r\" means we are opening the file in reading mode only, we can also open the file in \"w\" which refers to writing mode\n",
        "        for line in file:                                       # by using as file means hereafter we can use the word file to refer or access the file\n",
        "            yield line.strip()                  #yield each lines one by one as this is a generator function. and strip() method for string helps to remove unnecessary whitespaces\n",
        "\n",
        "lines = read_file_gen(\"Q7_example.txt\")             #calling the generator function and and the file, (here Q7_example.txt) has to be uploaded in the same folder directory and it should be a .txt file. a pdf file won't work same way\n",
        "\n",
        "for line in lines:              #iterating over the generator object\n",
        "    print(line if line  else \"<It's a blank space.>\")           #for blank space line is false so by this we will know where is a dedicated blank lines given in the original file"
      ],
      "metadata": {
        "id": "xOg343z5qSUL",
        "colab": {
          "base_uri": "https://localhost:8080/"
        },
        "outputId": "8000d25e-279c-4bd2-970c-d6a83321cef7"
      },
      "execution_count": null,
      "outputs": [
        {
          "output_type": "stream",
          "name": "stdout",
          "text": [
            "This is a example text file.\n",
            "<It's a blank space.>\n",
            "For the question 7.\n",
            "<It's a blank space.>\n",
            "The code is supposed to read this file and returns each line.\n",
            "<It's a blank space.>\n",
            "lets. check. the. code.\n",
            "<It's a blank space.>\n",
            "<It's a blank space.>\n",
            "\"This is the assignment on Python Functions.\"\n"
          ]
        }
      ]
    },
    {
      "cell_type": "code",
      "source": [
        "for l in read_file_gen(\"document_q7.txt\"):\n",
        "    print(l)"
      ],
      "metadata": {
        "colab": {
          "base_uri": "https://localhost:8080/"
        },
        "id": "ajdM8dgDndVP",
        "outputId": "37272cd5-6c4c-4762-93d8-62a1e4eb9802"
      },
      "execution_count": null,
      "outputs": [
        {
          "output_type": "stream",
          "name": "stdout",
          "text": [
            "\"\"\"\"\n",
            "\"Another text file . \". the function should return this lines.\n",
            "\n",
            "Data Science with Gen AI\n",
            "\n",
            "Fibonacci sequence, Golden ratio. It's Fibonacci day.\n"
          ]
        }
      ]
    },
    {
      "cell_type": "code",
      "source": [],
      "metadata": {
        "id": "FDyQDIrTea1s"
      },
      "execution_count": null,
      "outputs": []
    },
    {
      "cell_type": "markdown",
      "source": [
        "### **8. Use a lambda function in Python to sort a list of tuples based on the second element of each tuple.**"
      ],
      "metadata": {
        "id": "6LHUXaODqSrf"
      }
    },
    {
      "cell_type": "code",
      "source": [
        "list_tuples = [(1, 2), (2,1), (5,9), (4, 3), (9, 9)]\n",
        "\n",
        "elem2 = lambda x: x[1]          #this extracts the 2nd element\n",
        "\n",
        "sorted_list = sorted(list_tuples, key = elem2)      #using the lambda function as the key to sort\n",
        "\n",
        "print(f\"The sorted list of tuples based on the second element of each tuple is - {sorted_list}\")"
      ],
      "metadata": {
        "id": "hNExkfBaqZlq",
        "colab": {
          "base_uri": "https://localhost:8080/"
        },
        "outputId": "0ac6c4dd-1d41-480f-c475-de604795ad81"
      },
      "execution_count": null,
      "outputs": [
        {
          "output_type": "stream",
          "name": "stdout",
          "text": [
            "The sorted list of tuples based on the second element of each tuple is - [(2, 1), (1, 2), (4, 3), (5, 9), (9, 9)]\n"
          ]
        }
      ]
    },
    {
      "cell_type": "markdown",
      "source": [
        "### **9.  Write a Python program that uses `map()` to convert a list of temperatures from Celsius to Fahrenheit.**"
      ],
      "metadata": {
        "id": "qGx02PGVrBrP"
      }
    },
    {
      "cell_type": "code",
      "source": [
        "tempC = [32, 45, 68, 10, 100, -4, 9, 5, 0]      #list of temperatures in celcius\n",
        "\n",
        "tempF = map(lambda x: x* (9/5) + 32, tempC)     #using lambda function for the formula to be applied and map function to apply the formula to all the items in the iterable\n",
        "\n",
        "print(f\"The list of temperatures in Celsius is-  {tempC}\\n\")\n",
        "print(f\"The list of temperatures in Fahrenheits is-  {list(tempF)}\")"
      ],
      "metadata": {
        "id": "mdZCdV7FrdEx",
        "colab": {
          "base_uri": "https://localhost:8080/"
        },
        "outputId": "edef1dab-eb7b-4db4-b9ac-8b0d38f80444"
      },
      "execution_count": null,
      "outputs": [
        {
          "output_type": "stream",
          "name": "stdout",
          "text": [
            "The list of temperatures in Fahrenheits is-  [89.6, 113.0, 154.4, 50.0, 212.0, 24.8, 48.2, 41.0, 32.0]\n"
          ]
        }
      ]
    },
    {
      "cell_type": "markdown",
      "source": [
        "### **10. Create a Python program that uses `filter()` to remove all the vowels from a given string.**"
      ],
      "metadata": {
        "id": "7-L8JKsyrdly"
      }
    },
    {
      "cell_type": "code",
      "source": [
        "vowels = {\"a\", \"e\", \"i\", \"o\", \"u\", \"A\", \"E\", \"I\", \"O\", \"U\" }        #a set containing all the vowels\n",
        "def remove_vowels(text: str) -> str:\n",
        "    \"\"\"\n",
        "    This function removes the vowels from the given string. Works for both upper case and lower case.\n",
        "\n",
        "    parameter  text: expects a string object only, and returns a string object without vowels.\n",
        "\n",
        "    For any other input the function will raise a TypeError.\n",
        "\n",
        "    \"\"\"\n",
        "\n",
        "    if not isinstance(text, str):               #typechecking for invalid inputs\n",
        "        raise TypeError(\"The input should be a string\")\n",
        "\n",
        "    new_txt = list(filter(lambda t: t not in vowels, text))     #creates a list of letters wlithout vowels\n",
        "    new_txt = \"\".join(new_txt)      #a string method. concatenates or joins all the string elements from an iterable object\n",
        "    return new_txt\n",
        "\n",
        "     # we could have also done the following if we don't want to use the join method\n",
        "    # updated_str = \"\"            #created an empty string\n",
        "    # for x in new_txt:           #iterated through the list\n",
        "    #     updated_str += x        #updates the empty string at each step\n",
        "    # return updated_str.strip()   #used strip() method of a string to remove unnecessary whitespaces"
      ],
      "metadata": {
        "id": "iZkLYh_CrkvE"
      },
      "execution_count": null,
      "outputs": []
    },
    {
      "cell_type": "code",
      "source": [
        "remove_vowels(\"Hello World. THIS REMOVES ALL THE VOWELS FROM THE LINE\")"
      ],
      "metadata": {
        "colab": {
          "base_uri": "https://localhost:8080/",
          "height": 35
        },
        "id": "3uP44v8DEqD5",
        "outputId": "1035b2de-d258-41ba-a44d-da0376ece8d0"
      },
      "execution_count": null,
      "outputs": [
        {
          "output_type": "execute_result",
          "data": {
            "text/plain": [
              "'Hll Wrld. THS RMVS LL TH VWLS FRM TH LN'"
            ],
            "application/vnd.google.colaboratory.intrinsic+json": {
              "type": "string"
            }
          },
          "metadata": {},
          "execution_count": 78
        }
      ]
    },
    {
      "cell_type": "code",
      "source": [
        "remove_vowels(\"abcdef ghijkl mn aeiou o p q rst uv wxyz aeiou   \")"
      ],
      "metadata": {
        "colab": {
          "base_uri": "https://localhost:8080/",
          "height": 35
        },
        "id": "9TYufMb79NE3",
        "outputId": "2a2671fc-4cf1-4fac-ae84-aef1a829c5d9"
      },
      "execution_count": null,
      "outputs": [
        {
          "output_type": "execute_result",
          "data": {
            "text/plain": [
              "'bcdf ghjkl mn   p q rst v wxyz    '"
            ],
            "application/vnd.google.colaboratory.intrinsic+json": {
              "type": "string"
            }
          },
          "metadata": {},
          "execution_count": 79
        }
      ]
    },
    {
      "cell_type": "code",
      "source": [
        "remove_vowels(\"IS THIS WORKING?\")"
      ],
      "metadata": {
        "colab": {
          "base_uri": "https://localhost:8080/",
          "height": 35
        },
        "id": "RV08OKV-AI8x",
        "outputId": "a9feef98-8b50-4d2b-f120-5f4fed7b5e59"
      },
      "execution_count": null,
      "outputs": [
        {
          "output_type": "execute_result",
          "data": {
            "text/plain": [
              "'S THS WRKNG?'"
            ],
            "application/vnd.google.colaboratory.intrinsic+json": {
              "type": "string"
            }
          },
          "metadata": {},
          "execution_count": 80
        }
      ]
    },
    {
      "cell_type": "markdown",
      "source": [
        "### **11. Imagine an accounting routine used in a book shop. It works on a list with sublists, which look like this:**\n",
        "\n",
        "![Screenshot 2024-11-19 144340.png](data:image/png;base64,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)\n",
        "\n",
        "\n",
        "### **Write a Python program, which returns a list with 2-tuples. Each tuple consists of the order number and the product of the price per item and the quantity. The product should be increased by 10,- € if the value of the order is smaller than 100,00 €. Write a Python program using lambda and map.**"
      ],
      "metadata": {
        "id": "r1vh0yxErlHN"
      }
    },
    {
      "cell_type": "code",
      "source": [
        "#creating a nested dictionary to manage all data\n",
        "accounts = {\n",
        "\n",
        "    34587: {\"book\": \"Learning Python\", \"quantity\" : 4, \"ppi\" : 40.95},\n",
        "    98762: {\"book\": \"Programming Python\", \"quantity\" : 5, \"ppi\" : 56.80},\n",
        "    77226: {\"book\" : \"Head First Python\", \"quantity\": 3, \"ppi\" : 32.95},\n",
        "    88112: {\"book\" : \"Einfuhrung in Python 3\", \"quantity\": 3, \"ppi\" : 24.99},\n",
        "\n",
        "}\n"
      ],
      "metadata": {
        "id": "iJcu0T4ztbMX"
      },
      "execution_count": null,
      "outputs": []
    },
    {
      "cell_type": "code",
      "source": [
        "order = list(accounts.keys())       #creating a list  of order no.s using keys method for dictionaary\n",
        "\n",
        "dictValues = accounts.values()      #using values method of dictonary but this values of the main dictionary accounts is also a dictionary\n",
        "ppi = [ ]               #creating an empty list to store the values of price per item for 4 different order numbers\n",
        "quantity = [ ]          #creating another empty list to store the quantities\n",
        "\n",
        "for d in dictValues:\n",
        "    ppi.append(d[\"ppi\"])        #adding values of ppi by iterating over the inside dictionary\n",
        "\n",
        "for q in dictValues:\n",
        "    quantity.append(q[\"quantity\"])\n",
        "\n",
        "product_value = list(map(lambda x, y: round(x * y, 2), ppi, quantity))        #using map and lambda function to multiply the corresponding numbers of two lists and converting the map object to a list\n",
        "\n",
        "updated_product_value = list(map(lambda x: x + 10 if x < 100.00 else x, product_value))          #if the product value is less than 100.00 then we increase the total value by 10.\n",
        "# LETTING THE 100,00 MEANS 100.00 IN THE QUESTION. OTHERWISE every product value will be smaller than 10000. LETTING IT IS HUNDRED NOT TEN THOUSAND\n",
        "\n",
        "print(\"The list of tuples consisting order number and the total order value- \\n\")\n",
        "print(list( map (lambda x, y: (x , y), order, updated_product_value)))"
      ],
      "metadata": {
        "colab": {
          "base_uri": "https://localhost:8080/"
        },
        "id": "sYT65YdLRp_a",
        "outputId": "5615eba0-8423-4449-bf91-57295dc2ce28"
      },
      "execution_count": null,
      "outputs": [
        {
          "output_type": "stream",
          "name": "stdout",
          "text": [
            "The list of tuples consisting order number and the total order value- \n",
            "\n",
            "[(34587, 163.8), (98762, 284.0), (77226, 108.85), (88112, 84.97)]\n"
          ]
        }
      ]
    },
    {
      "cell_type": "code",
      "source": [],
      "metadata": {
        "id": "12gVLlrkvvrx"
      },
      "execution_count": null,
      "outputs": []
    }
  ]
}